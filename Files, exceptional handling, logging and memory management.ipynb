{
 "cells": [
  {
   "cell_type": "code",
   "execution_count": 2,
   "id": "b1dbaded-8f21-4326-8693-a78cad6289ff",
   "metadata": {},
   "outputs": [],
   "source": [
    "#1. What is the difference between interpreted and compiled languages?\n",
    "\n",
    "# Interpreted languages are executed line by line by an interpreter, which translates the source code into machine code at runtime.\n",
    "# Examples include Python, JavaScript, and Ruby. Compiled languages, on the other hand, are translated into machine code by a compiler before execution, creating an executable file.\n",
    "# Examples include C, C++, and Rust."
   ]
  },
  {
   "cell_type": "code",
   "execution_count": 4,
   "id": "eead957a-f2de-4fbd-947d-d23d49d41468",
   "metadata": {},
   "outputs": [],
   "source": [
    "# 2. What is exception handling in Python?\n",
    "\n",
    "# Exception handling in Python is a mechanism to handle runtime errors, allowing the program to continue execution or terminate gracefully. \n",
    "# It is implemented using the try, except, else, and finally blocks to catch and handle exceptions."
   ]
  },
  {
   "cell_type": "code",
   "execution_count": 5,
   "id": "d638f241-72c2-4b77-9cde-32b7f8b65342",
   "metadata": {},
   "outputs": [],
   "source": [
    "#3. What is the purpose of the finally block in exception handling?\n",
    "\n",
    "# The finally block is used to execute code that must run regardless of whether an exception occurred or not. \n",
    "# It is often used for cleanup tasks, such as closing files or releasing resources."
   ]
  },
  {
   "cell_type": "code",
   "execution_count": 6,
   "id": "35164b26-5726-44cc-bc03-1dda44d52d6d",
   "metadata": {},
   "outputs": [],
   "source": [
    "#4. What is logging in Python?\n",
    "\n",
    "# Logging in Python is the process of tracking events that occur during program execution. \n",
    "# The logging module provides a flexible framework for emitting log messages from Python programs.\n",
    "# It helps in debugging, monitoring, and maintaining code by keeping records of events and errors."
   ]
  },
  {
   "cell_type": "code",
   "execution_count": 7,
   "id": "61b3a3e3-178b-42c9-8ca2-912cfcde36db",
   "metadata": {},
   "outputs": [],
   "source": [
    "#5. What is the significance of the __del__ method in Python?\n",
    "\n",
    "# The __del__ method is a special method called a destructor. \n",
    "# It is called when an object is about to be destroyed, allowing for cleanup activities like closing files or releasing resources.\n",
    "# However, its usage is generally discouraged due to its unpredictability in certain circumstances."
   ]
  },
  {
   "cell_type": "code",
   "execution_count": 8,
   "id": "5d87f8f1-e462-4b87-8224-c886113c1d9f",
   "metadata": {},
   "outputs": [],
   "source": [
    "#6. What is the difference between import and from ... import in Python?\n",
    "\n",
    "# The import statement is used to import an entire module, allowing access to its attributes using dot notation (e.g., math.sqrt).\n",
    "# The from ... import statement imports specific attributes from a module directly into the namespace, allowing direct access without dot notation (e.g., from math import sqrt)."
   ]
  },
  {
   "cell_type": "code",
   "execution_count": 10,
   "id": "13f7414a-e3c2-452b-945a-5950b6f95bbc",
   "metadata": {},
   "outputs": [],
   "source": [
    "#7. How can you handle multiple exceptions in Python?\n",
    "\n",
    "# Multiple exceptions can be handled using a single except block with multiple exception types, separated by commas. \n",
    "# Alternatively, multiple except blocks can be used for different exceptions.\n",
    "# try:\n",
    "#     # Code that may raise exceptions\n",
    "# except (TypeError, ValueError):\n",
    "#     # Handle TypeError and ValueError\n",
    "# except Exception as e:\n",
    "#     # Handle any other exceptions\n"
   ]
  },
  {
   "cell_type": "code",
   "execution_count": 11,
   "id": "36cc1994-8196-4977-ab45-4ca568180d07",
   "metadata": {},
   "outputs": [],
   "source": [
    "#8. What is the purpose of the with statement when handling files in Python?\n",
    "\n",
    "# The with statement is used to ensure proper acquisition and release of resources.\n",
    "# When handling files, it automatically closes the file after the block of code is executed, even if an exception occurs. \n",
    "# This prevents resource leaks and simplifies the code."
   ]
  },
  {
   "cell_type": "code",
   "execution_count": 12,
   "id": "2c10c371-5722-491c-9566-ad5d6281bdeb",
   "metadata": {},
   "outputs": [],
   "source": [
    "#9. What is the difference between multithreading and multiprocessing?\n",
    "\n",
    "# Multithreading involves multiple threads running within the same process, sharing the same memory space.\n",
    "# It is suitable for I/O-bound tasks. Multiprocessing involves multiple processes, each with its own memory space, suitable for CPU-bound tasks. \n",
    "# It allows true parallelism but with higher overhead compared to multithreading."
   ]
  },
  {
   "cell_type": "code",
   "execution_count": 13,
   "id": "66cbf04c-8652-461d-9511-3dde1198cffd",
   "metadata": {},
   "outputs": [],
   "source": [
    "#10. What are the advantages of using logging in a program?\n",
    "\n",
    "# Logging provides several advantages:\n",
    "# Helps in debugging and diagnosing issues.\n",
    "# Provides a record of events and errors for future reference.\n",
    "# Allows monitoring of program execution and performance.\n",
    "# Facilitates auditing and tracking of user actions."
   ]
  },
  {
   "cell_type": "code",
   "execution_count": 14,
   "id": "7383881c-b145-47dc-b67a-f2e3f630f9e5",
   "metadata": {},
   "outputs": [],
   "source": [
    "#11. What is memory management in Python?\n",
    "\n",
    "# Memory management in Python involves the allocation and deallocation of memory for objects.\n",
    "# Python uses an automatic memory management system, including reference counting and garbage collection, to manage memory."
   ]
  },
  {
   "cell_type": "code",
   "execution_count": 15,
   "id": "5fd35304-6f46-4d2b-b37c-88f3b20cc8aa",
   "metadata": {},
   "outputs": [],
   "source": [
    "#12. What are the basic steps involved in exception handling in Python?\n",
    "\n",
    "# The basic steps involved in exception handling are:\n",
    "# Enclose the code that may raise an exception in a try block.\n",
    "# Use an except block to catch and handle specific exceptions.\n",
    "# Optionally, use an else block to execute code if no exceptions occur.\n",
    "# Optionally, use a finally block to execute code regardless of exceptions."
   ]
  },
  {
   "cell_type": "code",
   "execution_count": 16,
   "id": "1bb0becd-d03d-4609-9773-55ac5c1d7d16",
   "metadata": {},
   "outputs": [],
   "source": [
    "#13. Why is memory management important in Python?\n",
    "\n",
    "# Memory management is important in Python to ensure efficient use of memory resources, prevent memory leaks, and improve program performance.\n",
    "# Proper memory management helps avoid issues such as excessive memory consumption and application crashes."
   ]
  },
  {
   "cell_type": "code",
   "execution_count": 17,
   "id": "d5dc5e7f-8eae-4289-b4f8-a87d95d650f6",
   "metadata": {},
   "outputs": [],
   "source": [
    "#14. What is the role of try and except in exception handling?\n",
    "\n",
    "# The try block contains code that may raise an exception, while the except block contains code to handle specific exceptions that occur in the try block.\n",
    "# This allows the program to continue execution or terminate gracefully."
   ]
  },
  {
   "cell_type": "code",
   "execution_count": 18,
   "id": "86111bba-07fd-45f6-8cc9-d820aa5b8ab2",
   "metadata": {},
   "outputs": [],
   "source": [
    "#15. How does Python's garbage collection system work?\n",
    "\n",
    "# Python's garbage collection system works by automatically reclaiming memory allocated to objects that are no longer referenced.\n",
    "# It uses reference counting to track the number of references to an object, and a cyclic garbage collector to detect and collect cyclic references."
   ]
  },
  {
   "cell_type": "code",
   "execution_count": 19,
   "id": "edc2000a-60d9-474d-b957-5bcedc92d9c8",
   "metadata": {},
   "outputs": [],
   "source": [
    "#16. What is the purpose of the else block in exception handling?\n",
    "\n",
    "# The else block in exception handling is used to execute code only if no exceptions occur in the try block.\n",
    "# It provides a way to separate the normal code path from the exception handling code"
   ]
  },
  {
   "cell_type": "code",
   "execution_count": 20,
   "id": "6f6b0a40-901d-4395-9d95-596777a198e3",
   "metadata": {},
   "outputs": [],
   "source": [
    "#17. What are the common logging levels in Python?\n",
    "\n",
    "# The common logging levels in Python, in increasing order of severity, are:\n",
    "# DEBUG\n",
    "# INFO\n",
    "# WARNING\n",
    "# ERROR\n",
    "# CRITICAL"
   ]
  },
  {
   "cell_type": "code",
   "execution_count": 21,
   "id": "34d68614-ae7d-40e6-b7d1-61c38dc58cc8",
   "metadata": {},
   "outputs": [],
   "source": [
    "#18. What is the difference between os.fork() and multiprocessing in Python?\n",
    "\n",
    "# os.fork() creates a new process by duplicating the current process, allowing for concurrent execution. \n",
    "# The multiprocessing module provides a higher-level interface for creating and managing processes, offering features like process pools, inter-process communication, and synchronization."
   ]
  },
  {
   "cell_type": "code",
   "execution_count": 22,
   "id": "90fdc032-c0f7-46c2-9d35-3f3e0e73e620",
   "metadata": {},
   "outputs": [],
   "source": [
    "#19. What is the importance of closing a file in Python?\n",
    "\n",
    "# Closing a file in Python is important to ensure that any buffered data is written to the file, release system resources, and prevent file corruption or data loss.\n",
    "# The close() method or the with statement can be used to close a file."
   ]
  },
  {
   "cell_type": "code",
   "execution_count": 23,
   "id": "8fb505fe-b68e-43c4-9d73-2370b5454e8d",
   "metadata": {},
   "outputs": [],
   "source": [
    "#20. What is the difference between file.read() and file.readline() in Python?\n",
    "\n",
    "# file.read() reads the entire content of a file into a single string, while file.readline() reads a single line from the file. \n",
    "# file.readline() is useful for reading files line by line."
   ]
  },
  {
   "cell_type": "code",
   "execution_count": 24,
   "id": "2b91219a-0f74-47d9-bb25-eda8b8b195a5",
   "metadata": {},
   "outputs": [],
   "source": [
    "#21. What is the logging module in Python used for?\n",
    "\n",
    "# The logging module in Python is used for tracking events that occur during program execution. \n",
    "# It provides a flexible framework for emitting log messages, allowing for different log levels, formatting, and output destinations."
   ]
  },
  {
   "cell_type": "code",
   "execution_count": 25,
   "id": "84e9a346-0c09-46b7-a989-8582214844fe",
   "metadata": {},
   "outputs": [],
   "source": [
    "#22. What is the os module in Python used for in file handling?\n",
    "\n",
    "# The os module in Python is used for interacting with the operating system, including file handling operations such as creating, deleting, \n",
    "# and renaming files and directories, as well as manipulating file paths and permissions."
   ]
  },
  {
   "cell_type": "code",
   "execution_count": 26,
   "id": "85b37a7d-1c2e-402f-be20-45d9a182fd40",
   "metadata": {},
   "outputs": [],
   "source": [
    "#23. What are the challenges associated with memory management in Python?\n",
    "\n",
    "# The challenges associated with memory management in Python include:\n",
    "# Managing reference cycles, which can prevent objects from being garbage collected.\n",
    "# Handling large data structures and memory-intensive operations efficiently.\n",
    "# Minimizing memory fragmentation and managing memory leaks."
   ]
  },
  {
   "cell_type": "code",
   "execution_count": 27,
   "id": "6e5abe55-0e21-4008-afea-2fc68b8e8940",
   "metadata": {},
   "outputs": [],
   "source": [
    "#24. How do you raise an exception manually in Python?\n",
    "\n",
    "# You can raise an exception manually in Python using the raise statement. Example:\n",
    "# raise ValueError(\"This is a manually raised exception.\")\n"
   ]
  },
  {
   "cell_type": "code",
   "execution_count": null,
   "id": "59e2c52b-3b8a-4ebf-ac36-96c79b7058c2",
   "metadata": {},
   "outputs": [],
   "source": [
    "#25. Why is it important to use multithreading in certain applications?\n",
    "\n",
    "# Multithreading is important in certain applications, such as those involving I/O-bound tasks, to improve performance and responsiveness.\n",
    "# It allows multiple threads to run concurrently, making efficient use of resources and reducing wait times."
   ]
  },
  {
   "cell_type": "markdown",
   "id": "5c44ab7b-62da-455c-a994-65d925bcefc7",
   "metadata": {},
   "source": [
    "Practical Questions\n"
   ]
  },
  {
   "cell_type": "code",
   "execution_count": 28,
   "id": "9e5c6e14-06cd-475e-b0e8-5f0b54f79c39",
   "metadata": {},
   "outputs": [],
   "source": [
    "#1. How can you open a file for writing in Python and write a string to it?\n",
    "\n",
    "with open('output.txt', 'w') as file:\n",
    "    file.write('Hello, World!')\n"
   ]
  },
  {
   "cell_type": "code",
   "execution_count": 31,
   "id": "fe2a7cd9-602a-4958-9274-d6728ba46855",
   "metadata": {},
   "outputs": [],
   "source": [
    "#2. Write a Python program to read the contents of a file and print each line.\n",
    "\n",
    "# with open('input.txt', 'r') as file:\n",
    "#     for line in file:\n",
    "#         print(line)\n"
   ]
  },
  {
   "cell_type": "code",
   "execution_count": 32,
   "id": "9bb652ff-a36b-437c-a976-83bb937545a7",
   "metadata": {},
   "outputs": [
    {
     "name": "stdout",
     "output_type": "stream",
     "text": [
      "The file does not exist.\n"
     ]
    }
   ],
   "source": [
    "#3. How would you handle a case where the file doesn't exist while trying to open it for reading?\n",
    "try:\n",
    "    with open('nonexistent_file.txt', 'r') as file:\n",
    "        contents = file.read()\n",
    "except FileNotFoundError:\n",
    "    print(\"The file does not exist.\")\n"
   ]
  },
  {
   "cell_type": "code",
   "execution_count": 34,
   "id": "174ed7e1-b3d0-4af1-8ed4-02238d28cd20",
   "metadata": {},
   "outputs": [],
   "source": [
    "# 4. Write a Python script that reads from one file and writes its content to another file.\n",
    "\n",
    "# with open('source.txt', 'r') as src_file:\n",
    "#     contents = src_file.read()\n",
    "\n",
    "# with open('destination.txt', 'w') as dest_file:\n",
    "#     dest_file.write(contents)\n"
   ]
  },
  {
   "cell_type": "code",
   "execution_count": 35,
   "id": "d380a1e6-1557-421e-b35d-e8ddc381167b",
   "metadata": {},
   "outputs": [
    {
     "name": "stdout",
     "output_type": "stream",
     "text": [
      "Division by zero is not allowed.\n"
     ]
    }
   ],
   "source": [
    "# 5. How would you catch and handle division by zero error in Python?\n",
    "\n",
    "try:\n",
    "    result = 10 / 0\n",
    "except ZeroDivisionError:\n",
    "    print(\"Division by zero is not allowed.\")\n"
   ]
  },
  {
   "cell_type": "code",
   "execution_count": 36,
   "id": "4c99e842-150f-4cba-b995-210db1bc8903",
   "metadata": {},
   "outputs": [],
   "source": [
    "#6. Write a Python program that logs an error message to a log file when a division by zero exception occurs.\n",
    "\n",
    "import logging\n",
    "\n",
    "logging.basicConfig(filename='error.log', level=logging.ERROR)\n",
    "\n",
    "try:\n",
    "    result = 10 / 0\n",
    "except ZeroDivisionError:\n",
    "    logging.error(\"Division by zero error occurred.\")\n"
   ]
  },
  {
   "cell_type": "code",
   "execution_count": 37,
   "id": "c9f6693c-0485-4a23-bfb8-444bfef26e65",
   "metadata": {},
   "outputs": [],
   "source": [
    "#7. How do you log information at different levels (INFO, ERROR, WARNING) in Python using the logging module?\n",
    "\n",
    "import logging\n",
    "\n",
    "logging.basicConfig(level=logging.INFO)\n",
    "\n",
    "logging.info(\"This is an info message.\")\n",
    "logging.warning(\"This is a warning message.\")\n",
    "logging.error(\"This is an error message.\")\n"
   ]
  },
  {
   "cell_type": "code",
   "execution_count": 38,
   "id": "df938e8c-507a-479d-9606-337b4357794d",
   "metadata": {},
   "outputs": [
    {
     "name": "stdout",
     "output_type": "stream",
     "text": [
      "The file does not exist.\n"
     ]
    }
   ],
   "source": [
    "#8. Write a program to handle a file opening error using exception handling.\n",
    "\n",
    "try:\n",
    "    with open('nonexistent_file.txt', 'r') as file:\n",
    "        contents = file.read()\n",
    "except FileNotFoundError:\n",
    "    print(\"The file does not exist.\")\n"
   ]
  },
  {
   "cell_type": "code",
   "execution_count": 40,
   "id": "04cf21fb-99c7-4811-b45d-e6bc087e2c00",
   "metadata": {},
   "outputs": [],
   "source": [
    "#9. How can you read a file line by line and store its content in a list in Python?\n",
    "\n",
    "# lines = []\n",
    "# with open('input.txt', 'r') as file:\n",
    "#     for line in file:\n",
    "#         lines.append(line)\n"
   ]
  },
  {
   "cell_type": "code",
   "execution_count": 41,
   "id": "3a21102f-02a9-4ad0-a6bc-38ea2bc55f96",
   "metadata": {},
   "outputs": [],
   "source": [
    "#10. How can you append data to an existing file in Python?\n",
    "\n",
    "with open('output.txt', 'a') as file:\n",
    "    file.write('This is an appended line.\\n')\n"
   ]
  },
  {
   "cell_type": "code",
   "execution_count": 42,
   "id": "fd9d787b-8b70-4a75-9dfc-e1c9d199c053",
   "metadata": {},
   "outputs": [
    {
     "name": "stdout",
     "output_type": "stream",
     "text": [
      "The key 'c' does not exist in the dictionary.\n"
     ]
    }
   ],
   "source": [
    "#11. Write a Python program that uses a try-except block to handle an error when attempting to access a dictionary key that doesn't exist.\n",
    "\n",
    "my_dict = {'a': 1, 'b': 2}\n",
    "\n",
    "try:\n",
    "    value = my_dict['c']\n",
    "except KeyError:\n",
    "    print(\"The key 'c' does not exist in the dictionary.\")\n"
   ]
  },
  {
   "cell_type": "code",
   "execution_count": 43,
   "id": "1cd180bb-ab8e-4e3f-9112-d7c4b2cde694",
   "metadata": {},
   "outputs": [
    {
     "name": "stdout",
     "output_type": "stream",
     "text": [
      "Division by zero error.\n"
     ]
    }
   ],
   "source": [
    "#12. Write a program that demonstrates using multiple except blocks to handle different types of exceptions.\n",
    "\n",
    "try:\n",
    "    result = 10 / 0\n",
    "except ZeroDivisionError:\n",
    "    print(\"Division by zero error.\")\n",
    "except ValueError:\n",
    "    print(\"Value error.\")\n",
    "except Exception as e:\n",
    "    print(f\"An unexpected error occurred: {e}\")\n"
   ]
  },
  {
   "cell_type": "code",
   "execution_count": 44,
   "id": "7fa527e4-bde1-4d04-ad66-5fc03dc29bbd",
   "metadata": {},
   "outputs": [
    {
     "name": "stdout",
     "output_type": "stream",
     "text": [
      "The file does not exist.\n"
     ]
    }
   ],
   "source": [
    "#13. How would you check if a file exists before attempting to read it in Python?\n",
    "\n",
    "import os\n",
    "\n",
    "if os.path.exists('input.txt'):\n",
    "    with open('input.txt', 'r') as file:\n",
    "        contents = file.read()\n",
    "else:\n",
    "    print(\"The file does not exist.\")\n"
   ]
  },
  {
   "cell_type": "code",
   "execution_count": 45,
   "id": "02874222-d061-471f-b2e4-d76b8a4fb74f",
   "metadata": {},
   "outputs": [],
   "source": [
    "#14. Write a program that uses the logging module to log both informational and error messages.\n",
    "\n",
    "import logging\n",
    "\n",
    "logging.basicConfig(filename='app.log', level=logging.INFO)\n",
    "\n",
    "logging.info(\"This is an informational message.\")\n",
    "logging.error(\"This is an error message.\")\n"
   ]
  },
  {
   "cell_type": "code",
   "execution_count": 47,
   "id": "e2c7d4cd-d9d0-464e-8512-3142e8dc4858",
   "metadata": {},
   "outputs": [],
   "source": [
    "#15. Write a Python program that prints the content of a file and handles the case when the file is empty.\n",
    "\n",
    "# with open('input.txt', 'r') as file:\n",
    "#     contents = file.read()\n",
    "#     if contents:\n",
    "#         print(contents)\n",
    "#     else:\n",
    "#         print(\"The file is empty.\")\n"
   ]
  },
  {
   "cell_type": "code",
   "execution_count": 50,
   "id": "6bcf946d-b964-4592-9920-0bb037f6763d",
   "metadata": {},
   "outputs": [],
   "source": [
    "#16. Demonstrate how to use memory profiling to check the memory usage of a small program.\n",
    "\n",
    "# from memory_profiler import profile\n",
    "\n",
    "# @profile\n",
    "# def memory_test():\n",
    "#     # Allocating a list with 1 million elements\n",
    "#     numbers = [i for i in range(1000000)]\n",
    "#     return numbers\n",
    "\n",
    "# if __name__ == \"__main__\":\n",
    "#     memory_test()\n",
    "\n"
   ]
  },
  {
   "cell_type": "code",
   "execution_count": 51,
   "id": "a9f74820-3066-4c44-b30e-855aab21f428",
   "metadata": {},
   "outputs": [],
   "source": [
    "#17. Write a Python program to create and write a list of numbers to a file, one number per line.\n",
    "\n",
    "numbers = [1, 2, 3, 4, 5]\n",
    "\n",
    "with open('numbers.txt', 'w') as file:\n",
    "    for number in numbers:\n",
    "        file.write(f\"{number}\\n\")\n"
   ]
  },
  {
   "cell_type": "code",
   "execution_count": 52,
   "id": "2af08213-e1f7-4a69-8968-9378d96fab07",
   "metadata": {},
   "outputs": [],
   "source": [
    "#18. How would you implement a basic logging setup that logs to a file with rotation after 1MB?\n",
    "\n",
    "import logging\n",
    "from logging.handlers import RotatingFileHandler\n",
    "\n",
    "handler = RotatingFileHandler('app.log', maxBytes=1*1024*1024, backupCount=5)\n",
    "logging.basicConfig(handlers=[handler], level=logging.INFO)\n",
    "\n",
    "logging.info(\"This is an informational message.\")\n"
   ]
  },
  {
   "cell_type": "code",
   "execution_count": 53,
   "id": "636bf619-b330-4080-97a5-6b68d71ee9a8",
   "metadata": {},
   "outputs": [
    {
     "name": "stdout",
     "output_type": "stream",
     "text": [
      "IndexError occurred.\n"
     ]
    }
   ],
   "source": [
    "#19. Write a program that handles both IndexError and KeyError using a try-except block.\n",
    "\n",
    "my_list = [1, 2, 3]\n",
    "my_dict = {'a': 1}\n",
    "\n",
    "try:\n",
    "    value = my_list[3]\n",
    "    value = my_dict['b']\n",
    "except IndexError:\n",
    "    print(\"IndexError occurred.\")\n",
    "except KeyError:\n",
    "    print(\"KeyError occurred.\")\n"
   ]
  },
  {
   "cell_type": "code",
   "execution_count": null,
   "id": "a8bed31d-0895-494b-9652-0aeabda00be6",
   "metadata": {},
   "outputs": [],
   "source": [
    "#20. How would you open a file and read its contents using a context manager in Python?\n",
    "\n",
    "with open('input.txt', 'r') as file:\n",
    "    contents = file.read()\n",
    "    print(contents)\n"
   ]
  },
  {
   "cell_type": "code",
   "execution_count": null,
   "id": "e8a5392c-c096-4fb0-987b-8bcac06351ed",
   "metadata": {},
   "outputs": [],
   "source": [
    "# 21. Write a Python program that reads a file and prints the number of occurrences of a specific word.\n",
    "\n",
    "word_to_find = 'example'\n",
    "count = 0\n",
    "\n",
    "with open('input.txt', 'r') as file:\n",
    "    for line in file:\n",
    "        count += line.lower().split().count(word_to_find)\n",
    "\n",
    "print(f\"The word '{word_to_find}' occurs {count} times in the file.\")\n"
   ]
  },
  {
   "cell_type": "code",
   "execution_count": null,
   "id": "10c501fa-c76d-4a91-a108-8a72bd9c09ab",
   "metadata": {},
   "outputs": [],
   "source": [
    "# 22. How can you check if a file is empty before attempting to read its contents?\n",
    "\n",
    "import os\n",
    "\n",
    "if os.path.getsize('input.txt') > 0:\n",
    "    with open('input.txt', 'r') as file:\n",
    "        contents = file.read()\n",
    "        print(contents)\n",
    "else:\n",
    "    print(\"The file is empty.\")\n"
   ]
  },
  {
   "cell_type": "code",
   "execution_count": 54,
   "id": "18d6d148-1e17-4ee5-801e-3dc9396576e7",
   "metadata": {},
   "outputs": [],
   "source": [
    "# 23. Write a Python program that writes to a log file when an error occurs during file handling.\n",
    "\n",
    "import logging\n",
    "\n",
    "logging.basicConfig(filename='file_errors.log', level=logging.ERROR)\n",
    "\n",
    "try:\n",
    "    with open('nonexistent_file.txt', 'r') as file:\n",
    "        contents = file.read()\n",
    "except FileNotFoundError as e:\n",
    "    logging.error(f\"File error: {e}\")\n"
   ]
  },
  {
   "cell_type": "code",
   "execution_count": null,
   "id": "ac437159-5cf9-423b-9d23-47345afcebd1",
   "metadata": {},
   "outputs": [],
   "source": []
  }
 ],
 "metadata": {
  "kernelspec": {
   "display_name": "Python 3 (ipykernel)",
   "language": "python",
   "name": "python3"
  },
  "language_info": {
   "codemirror_mode": {
    "name": "ipython",
    "version": 3
   },
   "file_extension": ".py",
   "mimetype": "text/x-python",
   "name": "python",
   "nbconvert_exporter": "python",
   "pygments_lexer": "ipython3",
   "version": "3.12.7"
  }
 },
 "nbformat": 4,
 "nbformat_minor": 5
}
